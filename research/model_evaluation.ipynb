{
 "cells": [
  {
   "cell_type": "code",
   "execution_count": 1,
   "id": "04f67a0e",
   "metadata": {},
   "outputs": [],
   "source": [
    "import os\n",
    "os.chdir(\"../\")"
   ]
  },
  {
   "cell_type": "code",
   "execution_count": 2,
   "id": "7079853d",
   "metadata": {},
   "outputs": [],
   "source": [
    "import os\n",
    "import json\n",
    "from dataclasses import dataclass\n",
    "import pandas as pd\n",
    "from pathlib import Path\n",
    "from sklearn.metrics import accuracy_score, precision_score, recall_score, f1_score\n",
    "from src.constants import *\n",
    "from src.utils.utils import *\n",
    "from src.logging import logging"
   ]
  },
  {
   "cell_type": "code",
   "execution_count": 3,
   "id": "b5bf3f29",
   "metadata": {},
   "outputs": [],
   "source": [
    "@dataclass\n",
    "class ModelEvaluationConfig:\n",
    "    root_dir: Path\n",
    "    data_file: Path\n",
    "    train_dir: Path\n",
    "    test_dir: Path\n",
    "    model_dir: Path\n",
    "    metrics_file: Path"
   ]
  },
  {
   "cell_type": "code",
   "execution_count": 4,
   "id": "88001aba",
   "metadata": {},
   "outputs": [],
   "source": [
    "class ConfigurationManager:\n",
    "    def __init__(self, config_path=CONFIG_FILE_PATH, params_path=PARAMS_FILE_PATH):\n",
    "        self.config = read_yaml(CONFIG_FILE_PATH)\n",
    "        self.params = read_yaml(PARAMS_FILE_PATH)\n",
    "\n",
    "        create_directories([self.config.artifacts_root])\n",
    "    \n",
    "    def get_model_evaluation_config(self) -> ModelEvaluationConfig:\n",
    "        config = self.config.model_evaluation\n",
    "        create_directories([config.root_dir])\n",
    "\n",
    "        model_evaluation_config = ModelEvaluationConfig(\n",
    "            root_dir=Path(config.root_dir),\n",
    "            data_file=Path(config.data_file),\n",
    "            train_dir=Path(config.train_dir),\n",
    "            test_dir=Path(config.test_dir),\n",
    "            model_dir=Path(config.model_dir),\n",
    "            metrics_file=Path(config.metrics_file)\n",
    "        )\n",
    "\n",
    "        return model_evaluation_config"
   ]
  },
  {
   "cell_type": "code",
   "execution_count": 5,
   "id": "c746b184",
   "metadata": {},
   "outputs": [],
   "source": [
    "class ModelEvaluation:\n",
    "    def __init__(self, config: ModelEvaluationConfig, params_path=PARAMS_FILE_PATH):\n",
    "        self.config = config\n",
    "        self.params = read_yaml(params_path).model_trainer\n",
    "\n",
    "    def evaluate_model(self):\n",
    "        try:\n",
    "            logging.info(\"Starting model evaluation..\")\n",
    "            test_df = pd.read_csv(self.config.test_dir)\n",
    "            X_test, y_test = test_df.drop(\"y\", axis=1), test_df[\"y\"]\n",
    "            model = load_pickle(self.config.model_dir)\n",
    "            if model:\n",
    "                y_pred = model.predict(X_test)\n",
    "            else:\n",
    "                raise ValueError(\"Model File Not Found\")\n",
    "\n",
    "            accuracy = accuracy_score(y_test, y_pred)\n",
    "            f1score = f1_score(y_test, y_pred)\n",
    "            precision = precision_score(y_test, y_pred)\n",
    "            recall = recall_score(y_test, y_pred)\n",
    "            metrics = {\n",
    "                \"accuracy\": accuracy,\n",
    "                \"precision\": precision,\n",
    "                \"recall\": recall,\n",
    "                \"f1score\": f1score,\n",
    "            }\n",
    "\n",
    "            save_json(self.config.metrics_file, metrics)\n",
    "            logging.info(\"Model Evaluation Completed\")\n",
    "            \n",
    "            return metrics\n",
    "        except Exception as e:\n",
    "            raise e\n"
   ]
  },
  {
   "cell_type": "code",
   "execution_count": 6,
   "id": "696962dc",
   "metadata": {},
   "outputs": [
    {
     "name": "stdout",
     "output_type": "stream",
     "text": [
      "[2025-08-16 21:49:42,120: INFO: utils: yaml file: config\\config.yaml loaded successfully]\n",
      "[2025-08-16 21:49:42,123: INFO: utils: yaml file: params.yaml loaded successfully]\n",
      "[2025-08-16 21:49:42,124: INFO: utils: Created Directory at: artifacts]\n",
      "[2025-08-16 21:49:42,126: INFO: utils: Created Directory at: artifacts/model_evaluation]\n",
      "[2025-08-16 21:49:42,128: INFO: utils: yaml file: params.yaml loaded successfully]\n",
      "[2025-08-16 21:49:42,129: INFO: 1869341900: Starting model evaluation..]\n",
      "[2025-08-16 21:49:42,863: INFO: 1869341900: Model Evaluation Completed]\n"
     ]
    },
    {
     "data": {
      "text/plain": [
       "{'accuracy': 0.8914077186774301,\n",
       " 'precision': 0.5416348357524828,\n",
       " 'recall': 0.6498625114573785,\n",
       " 'f1score': 0.5908333333333333}"
      ]
     },
     "execution_count": 6,
     "metadata": {},
     "output_type": "execute_result"
    }
   ],
   "source": [
    "config = ConfigurationManager()\n",
    "model_evaluation_config = config.get_model_evaluation_config()\n",
    "model_evaluation = ModelEvaluation(model_evaluation_config)\n",
    "model_evaluation.evaluate_model()"
   ]
  },
  {
   "cell_type": "code",
   "execution_count": null,
   "id": "58cd015b",
   "metadata": {},
   "outputs": [],
   "source": []
  }
 ],
 "metadata": {
  "kernelspec": {
   "display_name": ".venv",
   "language": "python",
   "name": "python3"
  },
  "language_info": {
   "codemirror_mode": {
    "name": "ipython",
    "version": 3
   },
   "file_extension": ".py",
   "mimetype": "text/x-python",
   "name": "python",
   "nbconvert_exporter": "python",
   "pygments_lexer": "ipython3",
   "version": "3.12.4"
  }
 },
 "nbformat": 4,
 "nbformat_minor": 5
}
