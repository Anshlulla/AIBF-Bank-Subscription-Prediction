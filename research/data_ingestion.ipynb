{
 "cells": [
  {
   "cell_type": "code",
   "execution_count": 1,
   "id": "f5269d97",
   "metadata": {},
   "outputs": [],
   "source": [
    "import os\n",
    "os.chdir(\"../\")"
   ]
  },
  {
   "cell_type": "code",
   "execution_count": 2,
   "id": "0626094b",
   "metadata": {},
   "outputs": [],
   "source": [
    "import os\n",
    "import pandas as pd\n",
    "from dataclasses import dataclass\n",
    "from pathlib import Path\n",
    "from src.logging import logging\n",
    "from src.utils.utils import *\n",
    "from src.constants import *"
   ]
  },
  {
   "cell_type": "code",
   "execution_count": 16,
   "id": "e669bae7",
   "metadata": {},
   "outputs": [
    {
     "name": "stdout",
     "output_type": "stream",
     "text": [
      "[2025-07-27 04:23:23,780: INFO: utils: yaml file: config\\config.yaml loaded successfully]\n"
     ]
    },
    {
     "data": {
      "text/plain": [
       "ConfigBox({'artifacts_root': 'artifacts', 'data_ingestion': {'root_dir': 'artifacts/data_ingestion', 'data_file': 'data/bank_subscription.xlsx', 'save_file': 'artifacts/data_ingestion/data'}, 'data_transformation': {'root_dir': 'artifacts/data_transformation', 'data_file': 'data_ingestion/data'}})"
      ]
     },
     "execution_count": 16,
     "metadata": {},
     "output_type": "execute_result"
    }
   ],
   "source": [
    "contents = read_yaml(Path(CONFIG_FILE_PATH))\n",
    "contents"
   ]
  },
  {
   "cell_type": "code",
   "execution_count": 17,
   "id": "a67c1352",
   "metadata": {},
   "outputs": [],
   "source": [
    "@dataclass\n",
    "class DataIngestionConfig:\n",
    "    root_dir: Path\n",
    "    data_file: Path\n",
    "    save_file: Path"
   ]
  },
  {
   "cell_type": "code",
   "execution_count": 18,
   "id": "17dc615b",
   "metadata": {},
   "outputs": [],
   "source": [
    "class ConfigurationManager:\n",
    "    def __init__(self, config_file_path=CONFIG_FILE_PATH, params_file_path=PARAMS_FILE_PATH):\n",
    "        self.config = read_yaml(config_file_path)\n",
    "        self.params = read_yaml(params_file_path)\n",
    "    \n",
    "        create_directories([self.config.artifacts_root])\n",
    "    \n",
    "    def get_data_ingestion_config(self) -> DataIngestionConfig:\n",
    "        config = self.config.data_ingestion\n",
    "        create_directories([config.root_dir])\n",
    "\n",
    "        data_ingestion_config = DataIngestionConfig(\n",
    "            root_dir=Path(config.root_dir),\n",
    "            data_file=Path(config.data_file),\n",
    "            save_file=Path(config.save_file)\n",
    "        )\n",
    "\n",
    "        return data_ingestion_config"
   ]
  },
  {
   "cell_type": "code",
   "execution_count": 19,
   "id": "1090e4b4",
   "metadata": {},
   "outputs": [],
   "source": [
    "class DataIngestion:\n",
    "    def __init__(self, config: DataIngestionConfig):\n",
    "        self.config = config\n",
    "\n",
    "    def read_data(self) -> pd.DataFrame:\n",
    "        try:\n",
    "            df = pd.read_excel(self.config.data_file)\n",
    "            logging.info(f\"Data read successfully from {self.config.data_file}\")\n",
    "            return df\n",
    "        except Exception as e:\n",
    "            logging.error(f\"Error reading data from {self.config.data_file}: {e}\")\n",
    "            raise e\n",
    "    \n",
    "    def save_data(self, df: pd.DataFrame):\n",
    "        try:\n",
    "            os.makedirs(self.config.save_file, exist_ok=True)\n",
    "            file_path = os.path.join(self.config.save_file, \"data.csv\")\n",
    "            df.to_csv(file_path, index=False)\n",
    "            logging.info(f\"Data saved successfully to {file_path}\")\n",
    "        except Exception as e:\n",
    "            logging.error(f\"Error saving data to {self.config.save_file}: {e}\")\n",
    "            raise e"
   ]
  },
  {
   "cell_type": "code",
   "execution_count": 20,
   "id": "a3734bce",
   "metadata": {},
   "outputs": [
    {
     "name": "stdout",
     "output_type": "stream",
     "text": [
      "[2025-07-27 04:23:24,922: INFO: utils: yaml file: config\\config.yaml loaded successfully]\n",
      "[2025-07-27 04:23:24,924: INFO: utils: yaml file: params.yaml loaded successfully]\n",
      "[2025-07-27 04:23:24,926: INFO: utils: Created Directory at: artifacts]\n",
      "[2025-07-27 04:23:24,928: INFO: utils: Created Directory at: artifacts/data_ingestion]\n",
      "[2025-07-27 04:23:29,243: INFO: 1208334827: Data read successfully from data\\bank_subscription.xlsx]\n",
      "[2025-07-27 04:23:29,393: INFO: 1208334827: Data saved successfully to artifacts\\data_ingestion\\data\\data.csv]\n"
     ]
    }
   ],
   "source": [
    "config = ConfigurationManager()\n",
    "data_ingestion_config = config.get_data_ingestion_config()\n",
    "data_ingestion = DataIngestion(data_ingestion_config)\n",
    "df = data_ingestion.read_data()\n",
    "data_ingestion.save_data(df)"
   ]
  },
  {
   "cell_type": "code",
   "execution_count": null,
   "id": "59b394e6",
   "metadata": {},
   "outputs": [],
   "source": []
  }
 ],
 "metadata": {
  "kernelspec": {
   "display_name": ".venv",
   "language": "python",
   "name": "python3"
  },
  "language_info": {
   "codemirror_mode": {
    "name": "ipython",
    "version": 3
   },
   "file_extension": ".py",
   "mimetype": "text/x-python",
   "name": "python",
   "nbconvert_exporter": "python",
   "pygments_lexer": "ipython3",
   "version": "3.12.4"
  }
 },
 "nbformat": 4,
 "nbformat_minor": 5
}
